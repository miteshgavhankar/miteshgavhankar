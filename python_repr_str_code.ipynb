{
 "cells": [
  {
   "cell_type": "code",
   "execution_count": 1,
   "id": "7e49d83b",
   "metadata": {},
   "outputs": [
    {
     "name": "stdout",
     "output_type": "stream",
     "text": [
      "(Archery,8000)\n"
     ]
    }
   ],
   "source": [
    "class Competition:\n",
    "    def __init__(self,name,price):\n",
    "        self.__name=name\n",
    "        self.__price=price\n",
    "    def __repr__(self):\n",
    "        return \"({},{})\".format(self.__name,self.__price)\n",
    "\n",
    "\n",
    "archery= Competition('Archery',8000)\n",
    "\n",
    "print(archery)"
   ]
  },
  {
   "cell_type": "code",
   "execution_count": 2,
   "id": "b0adef56",
   "metadata": {},
   "outputs": [
    {
     "data": {
      "text/plain": [
       "'(Archery,8000)'"
      ]
     },
     "execution_count": 2,
     "metadata": {},
     "output_type": "execute_result"
    }
   ],
   "source": [
    "repr(archery)"
   ]
  },
  {
   "cell_type": "code",
   "execution_count": 3,
   "id": "59389d14",
   "metadata": {},
   "outputs": [
    {
     "data": {
      "text/plain": [
       "'(Archery,8000)'"
      ]
     },
     "execution_count": 3,
     "metadata": {},
     "output_type": "execute_result"
    }
   ],
   "source": [
    "str(archery)"
   ]
  },
  {
   "cell_type": "code",
   "execution_count": null,
   "id": "f004119c",
   "metadata": {},
   "outputs": [],
   "source": [
    "class Savings:\n",
    "    def __init__(self,amount):\n",
    "        self.__amount=amount\n",
    "    def __add(self, other):\n",
    "        return self."
   ]
  }
 ],
 "metadata": {
  "kernelspec": {
   "display_name": "Python 3 (ipykernel)",
   "language": "python",
   "name": "python3"
  },
  "language_info": {
   "codemirror_mode": {
    "name": "ipython",
    "version": 3
   },
   "file_extension": ".py",
   "mimetype": "text/x-python",
   "name": "python",
   "nbconvert_exporter": "python",
   "pygments_lexer": "ipython3",
   "version": "3.9.7"
  }
 },
 "nbformat": 4,
 "nbformat_minor": 5
}
